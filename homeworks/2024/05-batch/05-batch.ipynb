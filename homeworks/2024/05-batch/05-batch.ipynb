{
 "cells": [
  {
   "cell_type": "markdown",
   "id": "7cad0dff",
   "metadata": {},
   "source": [
    "## Question 1"
   ]
  },
  {
   "cell_type": "code",
   "execution_count": 3,
   "id": "4ea21417",
   "metadata": {
    "scrolled": false
   },
   "outputs": [
    {
     "name": "stdout",
     "output_type": "stream",
     "text": [
      "+----------+-------------+--------------------+------------+\n",
      "|LocationID|      Borough|                Zone|service_zone|\n",
      "+----------+-------------+--------------------+------------+\n",
      "|         1|          EWR|      Newark Airport|         EWR|\n",
      "|         2|       Queens|         Jamaica Bay|   Boro Zone|\n",
      "|         3|        Bronx|Allerton/Pelham G...|   Boro Zone|\n",
      "|         4|    Manhattan|       Alphabet City| Yellow Zone|\n",
      "|         5|Staten Island|       Arden Heights|   Boro Zone|\n",
      "|         6|Staten Island|Arrochar/Fort Wad...|   Boro Zone|\n",
      "|         7|       Queens|             Astoria|   Boro Zone|\n",
      "|         8|       Queens|        Astoria Park|   Boro Zone|\n",
      "|         9|       Queens|          Auburndale|   Boro Zone|\n",
      "|        10|       Queens|        Baisley Park|   Boro Zone|\n",
      "|        11|     Brooklyn|          Bath Beach|   Boro Zone|\n",
      "|        12|    Manhattan|        Battery Park| Yellow Zone|\n",
      "|        13|    Manhattan|   Battery Park City| Yellow Zone|\n",
      "|        14|     Brooklyn|           Bay Ridge|   Boro Zone|\n",
      "|        15|       Queens|Bay Terrace/Fort ...|   Boro Zone|\n",
      "|        16|       Queens|             Bayside|   Boro Zone|\n",
      "|        17|     Brooklyn|             Bedford|   Boro Zone|\n",
      "|        18|        Bronx|        Bedford Park|   Boro Zone|\n",
      "|        19|       Queens|           Bellerose|   Boro Zone|\n",
      "|        20|        Bronx|             Belmont|   Boro Zone|\n",
      "+----------+-------------+--------------------+------------+\n",
      "only showing top 20 rows\n",
      "\n"
     ]
    }
   ],
   "source": [
    "import pyspark\n",
    "from pyspark.sql import SparkSession\n",
    "\n",
    "spark = SparkSession.builder \\\n",
    "    .master(\"local[*]\") \\\n",
    "    .appName('test') \\\n",
    "    .getOrCreate()\n",
    "\n",
    "df = spark.read \\\n",
    "    .option(\"header\", \"true\") \\\n",
    "    .csv('taxi+_zone_lookup.csv')\n",
    "\n",
    "df.show()"
   ]
  },
  {
   "cell_type": "code",
   "execution_count": 4,
   "id": "49a5692c",
   "metadata": {},
   "outputs": [],
   "source": [
    "df.write.parquet('zones')"
   ]
  },
  {
   "cell_type": "code",
   "execution_count": 5,
   "id": "d1535910",
   "metadata": {},
   "outputs": [
    {
     "data": {
      "text/plain": [
       "'3.3.2'"
      ]
     },
     "execution_count": 5,
     "metadata": {},
     "output_type": "execute_result"
    }
   ],
   "source": [
    "spark.version"
   ]
  },
  {
   "cell_type": "markdown",
   "id": "78a72359",
   "metadata": {},
   "source": [
    "## Question 2"
   ]
  },
  {
   "cell_type": "code",
   "execution_count": 8,
   "id": "717a9b8a",
   "metadata": {},
   "outputs": [],
   "source": [
    "from pyspark.sql import types"
   ]
  },
  {
   "cell_type": "code",
   "execution_count": 9,
   "id": "c77fcc48",
   "metadata": {},
   "outputs": [],
   "source": [
    "schema = types.StructType([\n",
    "    types.StructField('dispatching_base_num', types.StringType(), True),\n",
    "    types.StructField('pickup_datetime', types.TimestampType(), True),\n",
    "    types.StructField('dropOff_datetime', types.TimestampType(), True),\n",
    "    types.StructField('PULocationID', types.IntegerType(), True),\n",
    "    types.StructField('DOLocationID', types.IntegerType(), True),\n",
    "    types.StructField('SR_Flag', types.StringType(), True),\n",
    "    types.StructField('Affiliated_base_number', types.StringType(), True)\n",
    "])"
   ]
  },
  {
   "cell_type": "code",
   "execution_count": 10,
   "id": "e8117fbc",
   "metadata": {},
   "outputs": [],
   "source": [
    "df = spark.read \\\n",
    "    .option(\"header\", \"true\") \\\n",
    "    .schema(schema) \\\n",
    "    .csv('fhv_tripdata_2019-10.csv')"
   ]
  },
  {
   "cell_type": "code",
   "execution_count": 11,
   "id": "ef9d3609",
   "metadata": {},
   "outputs": [],
   "source": [
    "# Repartitions the DataFrame\n",
    "df = df.repartition(6)"
   ]
  },
  {
   "cell_type": "code",
   "execution_count": 12,
   "id": "e3689013",
   "metadata": {},
   "outputs": [],
   "source": [
    "df.write.parquet('fhv/2019/10/')"
   ]
  },
  {
   "cell_type": "code",
   "execution_count": 13,
   "id": "1c7e3dbc",
   "metadata": {},
   "outputs": [
    {
     "name": "stdout",
     "output_type": "stream",
     "text": [
      "+--------------------+-------------------+-------------------+------------+------------+-------+----------------------+\n",
      "|dispatching_base_num|    pickup_datetime|   dropOff_datetime|PULocationID|DOLocationID|SR_Flag|Affiliated_base_number|\n",
      "+--------------------+-------------------+-------------------+------------+------------+-------+----------------------+\n",
      "|              B01437|2019-10-02 20:29:31|2019-10-02 20:52:31|         264|         173|   null|                B01437|\n",
      "|              B00900|2019-10-01 01:32:17|2019-10-01 01:35:28|         264|         258|   null|                B00900|\n",
      "|              B02285|2019-10-02 19:55:00|2019-10-02 21:07:00|         264|         264|   null|                B02285|\n",
      "|              B03051|2019-10-01 08:20:51|2019-10-01 08:33:39|         264|         157|   null|                B03051|\n",
      "|              B01626|2019-10-02 23:54:09|2019-10-02 23:58:49|         264|         130|   null|                B01626|\n",
      "|              B00821|2019-10-01 10:34:53|2019-10-01 10:45:20|         264|          63|   null|                B00900|\n",
      "|              B00256|2019-10-02 21:25:36|2019-10-02 21:58:51|         264|         264|   null|                B00256|\n",
      "|              B01087|2019-10-03 08:41:12|2019-10-03 08:58:34|         263|          42|   null|                B01087|\n",
      "|              B01061|2019-10-02 01:21:53|2019-10-02 01:30:05|         264|         213|   null|                B01061|\n",
      "|              B01877|2019-10-03 00:43:51|2019-10-03 00:44:34|         264|         264|   null|                B01877|\n",
      "|              B00647|2019-10-02 09:16:16|2019-10-02 09:25:55|         264|         250|   null|                B00647|\n",
      "|              B02191|2019-10-02 07:30:00|2019-10-02 17:58:00|         264|         264|   null|                B02191|\n",
      "|              B00911|2019-10-03 12:50:36|2019-10-03 13:08:47|         264|         220|   null|                B00911|\n",
      "|              B00445|2019-10-03 11:14:48|2019-10-03 11:34:30|         135|          92|   null|                B00445|\n",
      "|              B01367|2019-10-03 09:54:35|2019-10-03 10:32:24|          79|         132|   null|                B01367|\n",
      "|              B00860|2019-10-02 09:39:55|2019-10-02 09:55:13|         264|          32|   null|                B00860|\n",
      "|              B00477|2019-10-01 03:58:47|2019-10-01 04:05:26|         151|          13|   null|                B00477|\n",
      "|              B02634|2019-10-02 16:22:05|2019-10-02 16:35:23|         264|         174|   null|                B02634|\n",
      "|              B02634|2019-10-01 08:55:18|2019-10-01 09:06:49|         264|         119|   null|                B02634|\n",
      "|              B00647|2019-10-01 12:29:00|2019-10-01 12:32:16|         264|         168|   null|                B00647|\n",
      "+--------------------+-------------------+-------------------+------------+------------+-------+----------------------+\n",
      "only showing top 20 rows\n",
      "\n"
     ]
    }
   ],
   "source": [
    "df.show()"
   ]
  },
  {
   "cell_type": "markdown",
   "id": "63f2d871",
   "metadata": {},
   "source": [
    "## Question 3"
   ]
  },
  {
   "cell_type": "code",
   "execution_count": 19,
   "id": "fb800efd",
   "metadata": {},
   "outputs": [],
   "source": [
    "from pyspark.sql.functions import col\n",
    "from pyspark.sql.functions import to_date"
   ]
  },
  {
   "cell_type": "code",
   "execution_count": 20,
   "id": "d6497873",
   "metadata": {},
   "outputs": [],
   "source": [
    "df = df.withColumn('pickup_date', to_date('pickup_datetime'))"
   ]
  },
  {
   "cell_type": "code",
   "execution_count": 21,
   "id": "452bc08c",
   "metadata": {},
   "outputs": [],
   "source": [
    "oct_15_trips = df.filter(col(\"pickup_date\") == \"2019-10-15\")\n",
    "\n",
    "# Count the number of taxi trips on October 15th\n",
    "trip_count_oct_15 = oct_15_trips.count()"
   ]
  },
  {
   "cell_type": "code",
   "execution_count": 22,
   "id": "4fe77ecc",
   "metadata": {},
   "outputs": [
    {
     "data": {
      "text/plain": [
       "62610"
      ]
     },
     "execution_count": 22,
     "metadata": {},
     "output_type": "execute_result"
    }
   ],
   "source": [
    "trip_count_oct_15"
   ]
  },
  {
   "cell_type": "markdown",
   "id": "651cf201",
   "metadata": {},
   "source": [
    "## Question 4"
   ]
  },
  {
   "cell_type": "code",
   "execution_count": 24,
   "id": "1821507b",
   "metadata": {},
   "outputs": [
    {
     "data": {
      "text/plain": [
       "[Row(max(duration_hours)=631152.5)]"
      ]
     },
     "execution_count": 24,
     "metadata": {},
     "output_type": "execute_result"
    }
   ],
   "source": [
    "df \\\n",
    "    .withColumn('duration_hours', (df.dropOff_datetime.cast('long') - df.pickup_datetime.cast('long')) / 3600) \\\n",
    "    .agg({\"duration_hours\": \"max\"}) \\\n",
    "    .collect()"
   ]
  },
  {
   "cell_type": "markdown",
   "id": "1eeed2d2",
   "metadata": {},
   "source": [
    "## Question 6"
   ]
  },
  {
   "cell_type": "code",
   "execution_count": 25,
   "id": "20fdc885",
   "metadata": {},
   "outputs": [],
   "source": [
    "schema_zones = types.StructType([\n",
    "    types.StructField('LocationID', types.IntegerType(), True),\n",
    "    types.StructField('Borough', types.StringType(), True),\n",
    "    types.StructField('Zone', types.StringType(), True),\n",
    "    types.StructField('service_zone', types.StringType(), True)\n",
    "])"
   ]
  },
  {
   "cell_type": "code",
   "execution_count": 26,
   "id": "74fb3dfb",
   "metadata": {},
   "outputs": [],
   "source": [
    "df_zones = spark.read \\\n",
    "    .option(\"header\", \"true\") \\\n",
    "    .schema(schema_zones) \\\n",
    "    .csv('taxi_zone_lookup.csv')"
   ]
  },
  {
   "cell_type": "code",
   "execution_count": 27,
   "id": "e52e7eeb",
   "metadata": {},
   "outputs": [
    {
     "name": "stdout",
     "output_type": "stream",
     "text": [
      "+----------+-------------+--------------------+------------+\n",
      "|LocationID|      Borough|                Zone|service_zone|\n",
      "+----------+-------------+--------------------+------------+\n",
      "|         1|          EWR|      Newark Airport|         EWR|\n",
      "|         2|       Queens|         Jamaica Bay|   Boro Zone|\n",
      "|         3|        Bronx|Allerton/Pelham G...|   Boro Zone|\n",
      "|         4|    Manhattan|       Alphabet City| Yellow Zone|\n",
      "|         5|Staten Island|       Arden Heights|   Boro Zone|\n",
      "|         6|Staten Island|Arrochar/Fort Wad...|   Boro Zone|\n",
      "|         7|       Queens|             Astoria|   Boro Zone|\n",
      "|         8|       Queens|        Astoria Park|   Boro Zone|\n",
      "|         9|       Queens|          Auburndale|   Boro Zone|\n",
      "|        10|       Queens|        Baisley Park|   Boro Zone|\n",
      "|        11|     Brooklyn|          Bath Beach|   Boro Zone|\n",
      "|        12|    Manhattan|        Battery Park| Yellow Zone|\n",
      "|        13|    Manhattan|   Battery Park City| Yellow Zone|\n",
      "|        14|     Brooklyn|           Bay Ridge|   Boro Zone|\n",
      "|        15|       Queens|Bay Terrace/Fort ...|   Boro Zone|\n",
      "|        16|       Queens|             Bayside|   Boro Zone|\n",
      "|        17|     Brooklyn|             Bedford|   Boro Zone|\n",
      "|        18|        Bronx|        Bedford Park|   Boro Zone|\n",
      "|        19|       Queens|           Bellerose|   Boro Zone|\n",
      "|        20|        Bronx|             Belmont|   Boro Zone|\n",
      "+----------+-------------+--------------------+------------+\n",
      "only showing top 20 rows\n",
      "\n"
     ]
    }
   ],
   "source": [
    "df_zones.show()"
   ]
  },
  {
   "cell_type": "code",
   "execution_count": 32,
   "id": "fc241bc8",
   "metadata": {},
   "outputs": [
    {
     "data": {
      "text/plain": [
       "'Jamaica Bay'"
      ]
     },
     "execution_count": 32,
     "metadata": {},
     "output_type": "execute_result"
    }
   ],
   "source": [
    "df \\\n",
    "    .join(df_zones, df[\"PULocationID\"] == df_zones[\"LocationID\"]) \\\n",
    "    .groupBy(\"Zone\") \\\n",
    "    .count() \\\n",
    "    .orderBy(col(\"count\")) \\\n",
    "    .first()[\"Zone\"]"
   ]
  }
 ],
 "metadata": {
  "kernelspec": {
   "display_name": "Python 3 (ipykernel)",
   "language": "python",
   "name": "python3"
  },
  "language_info": {
   "codemirror_mode": {
    "name": "ipython",
    "version": 3
   },
   "file_extension": ".py",
   "mimetype": "text/x-python",
   "name": "python",
   "nbconvert_exporter": "python",
   "pygments_lexer": "ipython3",
   "version": "3.9.12"
  }
 },
 "nbformat": 4,
 "nbformat_minor": 5
}
